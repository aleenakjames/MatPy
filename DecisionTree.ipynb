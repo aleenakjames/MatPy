{
 "cells": [
  {
   "cell_type": "code",
   "execution_count": 8,
   "id": "92bda9a5",
   "metadata": {},
   "outputs": [
    {
     "name": "stdout",
     "output_type": "stream",
     "text": [
      "['woman']\n"
     ]
    }
   ],
   "source": [
    "from sklearn import tree\n",
    "from sklearn.model_selection import train_test_split\n",
    "x = [[165,19],[175,32],[136,35],[174,65],[141,28],[176,15]]\n",
    "y = ['man','woman','woman','man','woman','man']\n",
    "da_feature_names = ['height','length of hair']\n",
    "x_train,x_test,y_train,y_test = train_test_split(x,y,test_size = 0.3,random_state = 1)\n",
    "DTclf = tree.DecisionTreeClassifier()\n",
    "DTclf = DTclf.fit(x,y)\n",
    "prediction = DTclf.predict([[165,25]])\n",
    "print(prediction)"
   ]
  },
  {
   "cell_type": "code",
   "execution_count": null,
   "id": "e50563be",
   "metadata": {},
   "outputs": [],
   "source": []
  }
 ],
 "metadata": {
  "kernelspec": {
   "display_name": "Python 3",
   "language": "python",
   "name": "python3"
  },
  "language_info": {
   "codemirror_mode": {
    "name": "ipython",
    "version": 3
   },
   "file_extension": ".py",
   "mimetype": "text/x-python",
   "name": "python",
   "nbconvert_exporter": "python",
   "pygments_lexer": "ipython3",
   "version": "3.9.12"
  }
 },
 "nbformat": 4,
 "nbformat_minor": 5
}
